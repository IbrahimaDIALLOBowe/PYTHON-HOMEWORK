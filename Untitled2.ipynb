{
 "cells": [
  {
   "cell_type": "code",
   "execution_count": 4,
   "metadata": {},
   "outputs": [
    {
     "ename": "FileNotFoundError",
     "evalue": "[Errno 2] No such file or directory: 'Resources\\\\budget_data.csv'",
     "output_type": "error",
     "traceback": [
      "\u001b[1;31m---------------------------------------------------------------------------\u001b[0m",
      "\u001b[1;31mFileNotFoundError\u001b[0m                         Traceback (most recent call last)",
      "\u001b[1;32m<ipython-input-4-a14cf8847165>\u001b[0m in \u001b[0;36m<module>\u001b[1;34m\u001b[0m\n\u001b[0;32m     18\u001b[0m \u001b[1;33m\u001b[0m\u001b[0m\n\u001b[0;32m     19\u001b[0m \u001b[1;31m# Open the csv file as an object\u001b[0m\u001b[1;33m\u001b[0m\u001b[1;33m\u001b[0m\u001b[1;33m\u001b[0m\u001b[0m\n\u001b[1;32m---> 20\u001b[1;33m \u001b[1;32mwith\u001b[0m \u001b[0mopen\u001b[0m\u001b[1;33m(\u001b[0m\u001b[0mcsvpath\u001b[0m\u001b[1;33m,\u001b[0m \u001b[1;34m'r'\u001b[0m\u001b[1;33m)\u001b[0m \u001b[1;32mas\u001b[0m \u001b[0mcsvfile\u001b[0m\u001b[1;33m:\u001b[0m\u001b[1;33m\u001b[0m\u001b[1;33m\u001b[0m\u001b[0m\n\u001b[0m\u001b[0;32m     21\u001b[0m \u001b[1;33m\u001b[0m\u001b[0m\n\u001b[0;32m     22\u001b[0m     \u001b[1;31m# Read header\u001b[0m\u001b[1;33m\u001b[0m\u001b[1;33m\u001b[0m\u001b[1;33m\u001b[0m\u001b[0m\n",
      "\u001b[1;31mFileNotFoundError\u001b[0m: [Errno 2] No such file or directory: 'Resources\\\\budget_data.csv'"
     ]
    }
   ],
   "source": [
    "# Import the pathlib and csv library\n",
    "from pathlib import Path\n",
    "import csv\n",
    "\n",
    "# Set the file path\n",
    "csvpath = Path('Resources/budget_data.csv')\n",
    "\n",
    "\n",
    "# Initializations\n",
    "records = []\n",
    "numMonths = 0\n",
    "profit_total = 0\n",
    "maxMonthlyProfitability = None\n",
    "minMonthlyProfitability = None\n",
    "previousMonthlyProfit = None\n",
    "monthlyProfitChange = 0\n",
    "totalMonthlyProfitChange = 0\n",
    "\n",
    "# Open the csv file as an object\n",
    "with open(csvpath, 'r') as csvfile:\n",
    "\n",
    "    # Read header\n",
    "    csvreader = csv.reader(csvfile, delimiter=',')\n",
    "    csv_header = next(csvreader)\n",
    "\n",
    "    # Read each row of data after the header\n",
    "    for row in csvreader:\n",
    "    \n",
    "        \n",
    "        print(row)\n",
    "        \n",
    "        # Count number of months\n",
    "        numMonths+= 1\n",
    "        \n",
    "        # Calculate total Profit/loss\n",
    "        monthlyProfitLoss = int(row[1])\n",
    "        profit_total += monthlyProfitLoss\n",
    "        \n",
    "        # Calculate monthly profit change\n",
    "        if previousMonthlyProfit is None:\n",
    "            # we are on the first row\n",
    "            previousMonthlyProfit = monthlyProfitLoss\n",
    "            print(\"We are on the first row\")\n",
    "            print(f\"previousMonthlyProfit = {previousMonthlyProfit}\")\n",
    "        else:\n",
    "            # we are not on the first row\n",
    "            print(\"We are not on the first row\")\n",
    "            print(f\"previousMonthlyProfit = {previousMonthlyProfit}\")\n",
    "            monthlyProfitChange = monthlyProfitLoss - previousMonthlyProfit\n",
    "            previousMonthlyProfit = monthlyProfitLoss\n",
    "\n",
    "            totalMonthlyProfitChange += monthlyProfitChange\n",
    "\n",
    "# Average P/L\n",
    "averagePnl = round(profit_total / numMonths, 2)     \n",
    "\n",
    "# Average monthly profit change\n",
    "averageMonthlyProfitChange = totalMonthlyProfitChange / (numMonths - 1)\n",
    "\n",
    "#Print results\n",
    "print(numMonths)\n",
    "print(profit_total)\n",
    "print(averageMonthlyProfitChange)"
   ]
  },
  {
   "cell_type": "code",
   "execution_count": null,
   "metadata": {},
   "outputs": [],
   "source": []
  }
 ],
 "metadata": {
  "kernelspec": {
   "display_name": "Python 3",
   "language": "python",
   "name": "python3"
  },
  "language_info": {
   "codemirror_mode": {
    "name": "ipython",
    "version": 3
   },
   "file_extension": ".py",
   "mimetype": "text/x-python",
   "name": "python",
   "nbconvert_exporter": "python",
   "pygments_lexer": "ipython3",
   "version": "3.8.3"
  }
 },
 "nbformat": 4,
 "nbformat_minor": 4
}
